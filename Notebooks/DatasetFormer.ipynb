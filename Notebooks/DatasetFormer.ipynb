{
 "cells": [
  {
   "cell_type": "markdown",
   "metadata": {},
   "source": [
    "# Settings"
   ]
  },
  {
   "cell_type": "code",
   "execution_count": 1,
   "metadata": {},
   "outputs": [],
   "source": [
    "import pandas as pd\n",
    "from matplotlib import pyplot as plt\n",
    "%matplotlib inline\n",
    "\n",
    "from datetime import datetime, timedelta\n",
    "from sklearn.model_selection import train_test_split\n",
    "import os\n",
    "\n",
    "import re\n",
    "import os\n",
    "from datetime import datetime, timedelta\n",
    "from shutil import copyfile"
   ]
  },
  {
   "cell_type": "markdown",
   "metadata": {},
   "source": [
    "## Load split-csv files"
   ]
  },
  {
   "cell_type": "code",
   "execution_count": 6,
   "metadata": {},
   "outputs": [
    {
     "data": {
      "text/html": [
       "<div>\n",
       "<style scoped>\n",
       "    .dataframe tbody tr th:only-of-type {\n",
       "        vertical-align: middle;\n",
       "    }\n",
       "\n",
       "    .dataframe tbody tr th {\n",
       "        vertical-align: top;\n",
       "    }\n",
       "\n",
       "    .dataframe thead th {\n",
       "        text-align: right;\n",
       "    }\n",
       "</style>\n",
       "<table border=\"1\" class=\"dataframe\">\n",
       "  <thead>\n",
       "    <tr style=\"text-align: right;\">\n",
       "      <th></th>\n",
       "      <th>Unnamed: 0</th>\n",
       "      <th>name</th>\n",
       "      <th>type_of_source</th>\n",
       "      <th>pop</th>\n",
       "      <th>rock</th>\n",
       "      <th>indi</th>\n",
       "      <th>hiphop</th>\n",
       "      <th>metal</th>\n",
       "      <th>electronic</th>\n",
       "      <th>folk</th>\n",
       "      <th>blues</th>\n",
       "      <th>classical</th>\n",
       "      <th>jazz</th>\n",
       "      <th>country</th>\n",
       "      <th>disco</th>\n",
       "      <th>reggae</th>\n",
       "    </tr>\n",
       "  </thead>\n",
       "  <tbody>\n",
       "    <tr>\n",
       "      <th>0</th>\n",
       "      <td>127</td>\n",
       "      <td>Муся Тотибадзе - Мальчик. Вечерний Ургант. Фра...</td>\n",
       "      <td>Show</td>\n",
       "      <td>0</td>\n",
       "      <td>0</td>\n",
       "      <td>210</td>\n",
       "      <td>0</td>\n",
       "      <td>0</td>\n",
       "      <td>0</td>\n",
       "      <td>0</td>\n",
       "      <td>0</td>\n",
       "      <td>0</td>\n",
       "      <td>0</td>\n",
       "      <td>0</td>\n",
       "      <td>0</td>\n",
       "      <td>0</td>\n",
       "    </tr>\n",
       "    <tr>\n",
       "      <th>1</th>\n",
       "      <td>120</td>\n",
       "      <td>Маска»  Выпуск 1. Сезон 1  The Masked Singer.txt</td>\n",
       "      <td>Show</td>\n",
       "      <td>965</td>\n",
       "      <td>360</td>\n",
       "      <td>0</td>\n",
       "      <td>0</td>\n",
       "      <td>0</td>\n",
       "      <td>0</td>\n",
       "      <td>0</td>\n",
       "      <td>0</td>\n",
       "      <td>117</td>\n",
       "      <td>0</td>\n",
       "      <td>0</td>\n",
       "      <td>0</td>\n",
       "      <td>0</td>\n",
       "    </tr>\n",
       "    <tr>\n",
       "      <th>2</th>\n",
       "      <td>125</td>\n",
       "      <td>Монеточка – «Каждый раз». Вечерний Ургант. (28...</td>\n",
       "      <td>Show</td>\n",
       "      <td>205</td>\n",
       "      <td>0</td>\n",
       "      <td>0</td>\n",
       "      <td>0</td>\n",
       "      <td>0</td>\n",
       "      <td>0</td>\n",
       "      <td>0</td>\n",
       "      <td>0</td>\n",
       "      <td>0</td>\n",
       "      <td>0</td>\n",
       "      <td>0</td>\n",
       "      <td>0</td>\n",
       "      <td>0</td>\n",
       "    </tr>\n",
       "    <tr>\n",
       "      <th>3</th>\n",
       "      <td>35</td>\n",
       "      <td>RASA - Пчеловод. Вечерний Ургант. 20.12.2019.txt</td>\n",
       "      <td>Show</td>\n",
       "      <td>196</td>\n",
       "      <td>0</td>\n",
       "      <td>0</td>\n",
       "      <td>0</td>\n",
       "      <td>0</td>\n",
       "      <td>0</td>\n",
       "      <td>0</td>\n",
       "      <td>0</td>\n",
       "      <td>0</td>\n",
       "      <td>0</td>\n",
       "      <td>0</td>\n",
       "      <td>0</td>\n",
       "      <td>0</td>\n",
       "    </tr>\n",
       "    <tr>\n",
       "      <th>4</th>\n",
       "      <td>103</td>\n",
       "      <td>Елена Темникова – «Не модные» (08.06.2018).txt</td>\n",
       "      <td>Show</td>\n",
       "      <td>215</td>\n",
       "      <td>0</td>\n",
       "      <td>0</td>\n",
       "      <td>0</td>\n",
       "      <td>0</td>\n",
       "      <td>0</td>\n",
       "      <td>0</td>\n",
       "      <td>0</td>\n",
       "      <td>0</td>\n",
       "      <td>0</td>\n",
       "      <td>0</td>\n",
       "      <td>0</td>\n",
       "      <td>0</td>\n",
       "    </tr>\n",
       "  </tbody>\n",
       "</table>\n",
       "</div>"
      ],
      "text/plain": [
       "   Unnamed: 0                                               name  \\\n",
       "0         127  Муся Тотибадзе - Мальчик. Вечерний Ургант. Фра...   \n",
       "1         120   Маска»  Выпуск 1. Сезон 1  The Masked Singer.txt   \n",
       "2         125  Монеточка – «Каждый раз». Вечерний Ургант. (28...   \n",
       "3          35   RASA - Пчеловод. Вечерний Ургант. 20.12.2019.txt   \n",
       "4         103     Елена Темникова – «Не модные» (08.06.2018).txt   \n",
       "\n",
       "  type_of_source  pop  rock  indi  hiphop  metal  electronic  folk  blues  \\\n",
       "0           Show    0     0   210       0      0           0     0      0   \n",
       "1           Show  965   360     0       0      0           0     0      0   \n",
       "2           Show  205     0     0       0      0           0     0      0   \n",
       "3           Show  196     0     0       0      0           0     0      0   \n",
       "4           Show  215     0     0       0      0           0     0      0   \n",
       "\n",
       "   classical  jazz  country  disco  reggae  \n",
       "0          0     0        0      0       0  \n",
       "1        117     0        0      0       0  \n",
       "2          0     0        0      0       0  \n",
       "3          0     0        0      0       0  \n",
       "4          0     0        0      0       0  "
      ]
     },
     "execution_count": 6,
     "metadata": {},
     "output_type": "execute_result"
    }
   ],
   "source": [
    "df_list = []\n",
    "dataset_names = ['train', 'valid', 'test']\n",
    "\n",
    "for cur_name in dataset_names:\n",
    "    df = pd.read_csv(os.path.join('Data', cur_name + '.csv'), encoding='cp1251')\n",
    "    df_list.append(df)"
   ]
  },
  {
   "cell_type": "markdown",
   "metadata": {},
   "source": [
    "## Make dirs:"
   ]
  },
  {
   "cell_type": "code",
   "execution_count": 9,
   "metadata": {},
   "outputs": [],
   "source": [
    "target_dirs = []\n",
    "for cur_name in dataset_names:\n",
    "    cur_path = os.path.join('..', 'Pipeline',\"auxiliary_files\", \"data_to_preproc\", cur_name)\n",
    "    target_dirs.append(cur_path)\n",
    "    if not os.path.isdir(cur_path):\n",
    "        os.makedirs(cur_path, exist_ok=True)"
   ]
  },
  {
   "cell_type": "markdown",
   "metadata": {},
   "source": [
    "## Path to all txt files represented in csv tables: "
   ]
  },
  {
   "cell_type": "code",
   "execution_count": 10,
   "metadata": {},
   "outputs": [],
   "source": [
    "metadata_files_path = os.path.join('..', 'LabelledData', 'txts')"
   ]
  },
  {
   "cell_type": "markdown",
   "metadata": {},
   "source": [
    "## Split according to csv splits"
   ]
  },
  {
   "cell_type": "code",
   "execution_count": 11,
   "metadata": {},
   "outputs": [],
   "source": [
    "for i, cur_dataname in enumerate(dataset_names):\n",
    "    cur_dataframe = df_list[i]\n",
    "    for _, row in cur_dataframe.iterrows():\n",
    "        filename = row['name']\n",
    "        target_path = os.path.join(target_dirs[i], filename)\n",
    "        source_path = os.path.join(metadata_files_path, filename)\n",
    "        copyfile(source_path, target_path)"
   ]
  }
 ],
 "metadata": {
  "kernelspec": {
   "display_name": "Python 3",
   "language": "python",
   "name": "python3"
  },
  "language_info": {
   "codemirror_mode": {
    "name": "ipython",
    "version": 3
   },
   "file_extension": ".py",
   "mimetype": "text/x-python",
   "name": "python",
   "nbconvert_exporter": "python",
   "pygments_lexer": "ipython3",
   "version": "3.7.6"
  }
 },
 "nbformat": 4,
 "nbformat_minor": 4
}
