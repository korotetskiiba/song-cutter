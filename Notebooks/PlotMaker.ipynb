{
 "cells": [
  {
   "cell_type": "markdown",
   "metadata": {},
   "source": [
    "# Settings:"
   ]
  },
  {
   "cell_type": "code",
   "execution_count": 1,
   "metadata": {},
   "outputs": [],
   "source": [
    "import pandas as pd\n",
    "from matplotlib import pyplot as plt\n",
    "%matplotlib inline\n",
    "\n",
    "from datetime import datetime, timedelta\n",
    "from sklearn.model_selection import train_test_split\n",
    "import os"
   ]
  },
  {
   "cell_type": "markdown",
   "metadata": {},
   "source": [
    "## Read df:"
   ]
  },
  {
   "cell_type": "code",
   "execution_count": 3,
   "metadata": {},
   "outputs": [],
   "source": [
    "df = pd.read_csv(os.path.join('Data', 'info.csv'))"
   ]
  },
  {
   "cell_type": "markdown",
   "metadata": {},
   "source": [
    "## Check df:"
   ]
  },
  {
   "cell_type": "code",
   "execution_count": 4,
   "metadata": {},
   "outputs": [
    {
     "data": {
      "text/html": [
       "<div>\n",
       "<style scoped>\n",
       "    .dataframe tbody tr th:only-of-type {\n",
       "        vertical-align: middle;\n",
       "    }\n",
       "\n",
       "    .dataframe tbody tr th {\n",
       "        vertical-align: top;\n",
       "    }\n",
       "\n",
       "    .dataframe thead th {\n",
       "        text-align: right;\n",
       "    }\n",
       "</style>\n",
       "<table border=\"1\" class=\"dataframe\">\n",
       "  <thead>\n",
       "    <tr style=\"text-align: right;\">\n",
       "      <th></th>\n",
       "      <th>link</th>\n",
       "      <th>type_of_source</th>\n",
       "      <th>time_from</th>\n",
       "      <th>time_to</th>\n",
       "      <th>genre</th>\n",
       "    </tr>\n",
       "  </thead>\n",
       "  <tbody>\n",
       "    <tr>\n",
       "      <th>0</th>\n",
       "      <td>https://www.youtube.com/watch?v=UKq-Uz2ZTPw&amp;li...</td>\n",
       "      <td>Show</td>\n",
       "      <td>00:00:20</td>\n",
       "      <td>00:03:43</td>\n",
       "      <td>hiphop</td>\n",
       "    </tr>\n",
       "    <tr>\n",
       "      <th>1</th>\n",
       "      <td>https://www.youtube.com/watch?v=nerSkOMcZaA&amp;li...</td>\n",
       "      <td>Show</td>\n",
       "      <td>00:00:34</td>\n",
       "      <td>00:04:31</td>\n",
       "      <td>pop</td>\n",
       "    </tr>\n",
       "    <tr>\n",
       "      <th>2</th>\n",
       "      <td>https://www.youtube.com/watch?v=qBX_iXOmQ_4&amp;li...</td>\n",
       "      <td>Show</td>\n",
       "      <td>00:00:39</td>\n",
       "      <td>00:03:50</td>\n",
       "      <td>pop</td>\n",
       "    </tr>\n",
       "    <tr>\n",
       "      <th>3</th>\n",
       "      <td>https://www.youtube.com/watch?v=Y_DFEPFCmTg&amp;li...</td>\n",
       "      <td>Show</td>\n",
       "      <td>00:01:14</td>\n",
       "      <td>00:04:36</td>\n",
       "      <td>metal</td>\n",
       "    </tr>\n",
       "    <tr>\n",
       "      <th>4</th>\n",
       "      <td>https://www.youtube.com/watch?v=pWkB9NZi7tw&amp;li...</td>\n",
       "      <td>Show</td>\n",
       "      <td>00:00:58</td>\n",
       "      <td>00:04:35</td>\n",
       "      <td>pop</td>\n",
       "    </tr>\n",
       "  </tbody>\n",
       "</table>\n",
       "</div>"
      ],
      "text/plain": [
       "                                                link type_of_source time_from  \\\n",
       "0  https://www.youtube.com/watch?v=UKq-Uz2ZTPw&li...           Show  00:00:20   \n",
       "1  https://www.youtube.com/watch?v=nerSkOMcZaA&li...           Show  00:00:34   \n",
       "2  https://www.youtube.com/watch?v=qBX_iXOmQ_4&li...           Show  00:00:39   \n",
       "3  https://www.youtube.com/watch?v=Y_DFEPFCmTg&li...           Show  00:01:14   \n",
       "4  https://www.youtube.com/watch?v=pWkB9NZi7tw&li...           Show  00:00:58   \n",
       "\n",
       "    time_to   genre  \n",
       "0  00:03:43  hiphop  \n",
       "1  00:04:31     pop  \n",
       "2  00:03:50     pop  \n",
       "3  00:04:36   metal  \n",
       "4  00:04:35     pop  "
      ]
     },
     "execution_count": 4,
     "metadata": {},
     "output_type": "execute_result"
    }
   ],
   "source": [
    "for _, row in df.iterrows():\n",
    "    if row['genre'] == \"hiphiop\":\n",
    "        row['genre'] = \"hiphop\"\n",
    "    if row['genre'] == \"electronic \":\n",
    "        row['genre'] = \"electronic\"\n",
    "\n",
    "df.head()"
   ]
  },
  {
   "cell_type": "markdown",
   "metadata": {},
   "source": [
    "## Count durations:"
   ]
  },
  {
   "cell_type": "code",
   "execution_count": 5,
   "metadata": {},
   "outputs": [],
   "source": [
    "dur_list = []\n",
    "for _, row in df.iterrows(): \n",
    "    begin = datetime.strptime(row['time_from'], \"%H:%M:%S\")\n",
    "    end = datetime.strptime(row['time_to'], \"%H:%M:%S\")\n",
    "    duration = (end - begin).total_seconds()\n",
    "    dur_list.append(duration)\n",
    "\n",
    "dur_df = pd.DataFrame({\"duration\": dur_list})\n",
    "\n",
    "complete_df = pd.concat([df, dur_df], axis=1)"
   ]
  },
  {
   "cell_type": "markdown",
   "metadata": {},
   "source": [
    "## Calculate source durations:"
   ]
  },
  {
   "cell_type": "code",
   "execution_count": 6,
   "metadata": {},
   "outputs": [
    {
     "name": "stdout",
     "output_type": "stream",
     "text": [
      "{'Show': 32788.0, 'Contest': 11593.0, 'Concert': 61606.0}\n"
     ]
    }
   ],
   "source": [
    "dur_src_dict = { \"Show\": 0,\n",
    "                 \"Contest\": 0,\n",
    "                 \"Concert\": 0}\n",
    "for _, row in complete_df.iterrows():\n",
    "    duration = row['duration']\n",
    "    prev_dur = dur_src_dict[row['type_of_source']]\n",
    "    duration += prev_dur\n",
    "    dur_src_dict.update({row['type_of_source']: duration})\n",
    "\n",
    "print(dur_src_dict)"
   ]
  },
  {
   "cell_type": "markdown",
   "metadata": {},
   "source": [
    "## Calculate genres durations:"
   ]
  },
  {
   "cell_type": "code",
   "execution_count": 7,
   "metadata": {},
   "outputs": [
    {
     "name": "stdout",
     "output_type": "stream",
     "text": [
      "{'hiphop': 13360.0, 'pop': 48780.0, 'metal': 2496.0, 'rock': 21695.0, 'electronic': 2634.0, 'jazz': 254.0, 'indi': 5051.0, 'blues': 3266.0, 'classical': 949.0, 'folk': 3920.0, 'country': 2332.0, 'disco': 403.0, 'reggae': 847.0}\n"
     ]
    }
   ],
   "source": [
    "genre_dict = {}\n",
    "\n",
    "for _, row in complete_df.iterrows():\n",
    "    duration = row['duration']\n",
    "    if row['genre'] in genre_dict:\n",
    "        genre_dict.update({row['genre']: duration + genre_dict[row['genre']]})\n",
    "    else:\n",
    "        genre_dict.update({row['genre']: duration})\n",
    "\n",
    "print(genre_dict)"
   ]
  },
  {
   "cell_type": "code",
   "execution_count": 8,
   "metadata": {},
   "outputs": [],
   "source": [
    "# check tyops (old)\n",
    "\n",
    "for _, row in complete_df.iterrows():\n",
    "    if row['genre'] == \"electronic \" or row['genre'] == \"hiphiop\":\n",
    "        print(row)"
   ]
  },
  {
   "cell_type": "markdown",
   "metadata": {},
   "source": [
    "# Make plots:"
   ]
  },
  {
   "cell_type": "code",
   "execution_count": 9,
   "metadata": {},
   "outputs": [
    {
     "data": {
      "image/png": "[encoded data removed]",
      "text/plain": [
       "<Figure size 432x288 with 1 Axes>"
      ]
     },
     "metadata": {
      "needs_background": "light"
     },
     "output_type": "display_data"
    }
   ],
   "source": [
    "plt.barh(range(len(genre_dict)), genre_dict.values(), tick_label=list(genre_dict.keys()), align='center')\n",
    "plt.savefig(os.path.join('Plots', 'genres.png'))\n",
    "plt.show()"
   ]
  },
  {
   "cell_type": "code",
   "execution_count": 10,
   "metadata": {},
   "outputs": [
    {
     "data": {
      "image/png": "[encoded data removed]",
      "text/plain": [
       "<Figure size 432x288 with 1 Axes>"
      ]
     },
     "metadata": {},
     "output_type": "display_data"
    }
   ],
   "source": [
    "plt.pie(list(dur_src_dict.values()), labels=list(dur_src_dict.keys()))\n",
    "plt.savefig(os.path.join('Plots', 'Sources.png'))\n",
    "plt.show()"
   ]
  },
  {
   "cell_type": "markdown",
   "metadata": {},
   "source": [
    "## Split 70/30"
   ]
  },
  {
   "cell_type": "code",
   "execution_count": 11,
   "metadata": {},
   "outputs": [],
   "source": [
    "train, test = train_test_split(complete_df, test_size=0.3)"
   ]
  },
  {
   "cell_type": "code",
   "execution_count": 16,
   "metadata": {},
   "outputs": [],
   "source": [
    "def source_dict(data_frame):\n",
    "    dur_src_dict = { \"Show\": 0,\n",
    "                     \"Contest\": 0,\n",
    "                     \"Concert\": 0}\n",
    "    for _, row in data_frame.iterrows():\n",
    "        duration = row['duration']\n",
    "        prev_dur = dur_src_dict[row['type_of_source']]\n",
    "        duration += prev_dur\n",
    "        dur_src_dict.update({row['type_of_source']: duration})\n",
    "\n",
    "    return dur_src_dict\n",
    "\n",
    "def genres_dict(data_frame):\n",
    "    genre_dict = {}\n",
    "\n",
    "    for _, row in data_frame.iterrows():\n",
    "        duration = row['duration']\n",
    "        if row['genre'] in genre_dict:\n",
    "            genre_dict.update({row['genre']: duration + genre_dict[row['genre']]})\n",
    "        else:\n",
    "            genre_dict.update({row['genre']: duration})\n",
    "    return genre_dict"
   ]
  },
  {
   "cell_type": "markdown",
   "metadata": {},
   "source": [
    "## Plots:"
   ]
  },
  {
   "cell_type": "code",
   "execution_count": 17,
   "metadata": {},
   "outputs": [],
   "source": [
    "def make_plots(name, data_frame):\n",
    "    genre_dict = genres_dict(data_frame)\n",
    "    dur_src_dict = source_dict(data_frame)\n",
    "    plt.barh(range(len(genre_dict)), genre_dict.values(), tick_label=list(genre_dict.keys()), align='center')\n",
    "    plt.savefig(name + 'genres.png')\n",
    "    plt.show()\n",
    "    plt.pie(list(dur_src_dict.values()), labels=list(dur_src_dict.keys()))\n",
    "    plt.savefig(name + 'Sources.png')\n",
    "    plt.show()"
   ]
  },
  {
   "cell_type": "markdown",
   "metadata": {},
   "source": [
    "## Train plots:"
   ]
  },
  {
   "cell_type": "code",
   "execution_count": 14,
   "metadata": {},
   "outputs": [
    {
     "data": {
      "image/png": "[encoded data removed]",
      "text/plain": [
       "<Figure size 432x288 with 1 Axes>"
      ]
     },
     "metadata": {
      "needs_background": "light"
     },
     "output_type": "display_data"
    },
    {
     "data": {
      "image/png": "[encoded data removed]",
      "text/plain": [
       "<Figure size 432x288 with 1 Axes>"
      ]
     },
     "metadata": {},
     "output_type": "display_data"
    }
   ],
   "source": [
    "make_plots(os.path.join('Plots', 'train_'), train)"
   ]
  },
  {
   "cell_type": "markdown",
   "metadata": {},
   "source": [
    "## Test plots:"
   ]
  },
  {
   "cell_type": "code",
   "execution_count": 15,
   "metadata": {},
   "outputs": [
    {
     "data": {
      "image/png": "[encoded data removed]",
      "text/plain": [
       "<Figure size 432x288 with 1 Axes>"
      ]
     },
     "metadata": {
      "needs_background": "light"
     },
     "output_type": "display_data"
    },
    {
     "data": {
      "image/png": "[encoded data removed]",
      "text/plain": [
       "<Figure size 432x288 with 1 Axes>"
      ]
     },
     "metadata": {},
     "output_type": "display_data"
    }
   ],
   "source": [
    "make_plots(os.path.join('Plots', 'test_'), test)"
   ]
  },
  {
   "cell_type": "markdown",
   "metadata": {},
   "source": [
    "# Split datasets:"
   ]
  },
  {
   "cell_type": "code",
   "execution_count": 11,
   "metadata": {},
   "outputs": [
    {
     "data": {
      "text/html": [
       "<div>\n",
       "<style scoped>\n",
       "    .dataframe tbody tr th:only-of-type {\n",
       "        vertical-align: middle;\n",
       "    }\n",
       "\n",
       "    .dataframe tbody tr th {\n",
       "        vertical-align: top;\n",
       "    }\n",
       "\n",
       "    .dataframe thead th {\n",
       "        text-align: right;\n",
       "    }\n",
       "</style>\n",
       "<table border=\"1\" class=\"dataframe\">\n",
       "  <thead>\n",
       "    <tr style=\"text-align: right;\">\n",
       "      <th></th>\n",
       "      <th>name</th>\n",
       "      <th>type_of_source</th>\n",
       "      <th>pop</th>\n",
       "      <th>rock</th>\n",
       "      <th>indi</th>\n",
       "      <th>hiphop</th>\n",
       "      <th>metal</th>\n",
       "      <th>electronic</th>\n",
       "      <th>folk</th>\n",
       "      <th>blues</th>\n",
       "      <th>classical</th>\n",
       "      <th>jazz</th>\n",
       "      <th>country</th>\n",
       "      <th>disco</th>\n",
       "      <th>reggae</th>\n",
       "    </tr>\n",
       "  </thead>\n",
       "  <tbody>\n",
       "    <tr>\n",
       "      <th>0</th>\n",
       "      <td>2517 - Подорожник. Вечерний Ургант. 12.03.2020...</td>\n",
       "      <td>Show</td>\n",
       "      <td>0</td>\n",
       "      <td>0</td>\n",
       "      <td>0</td>\n",
       "      <td>203</td>\n",
       "      <td>0</td>\n",
       "      <td>0</td>\n",
       "      <td>0</td>\n",
       "      <td>0</td>\n",
       "      <td>0</td>\n",
       "      <td>0</td>\n",
       "      <td>0</td>\n",
       "      <td>0</td>\n",
       "      <td>0</td>\n",
       "    </tr>\n",
       "    <tr>\n",
       "      <th>1</th>\n",
       "      <td>2Маши - Мама я танцую.txt</td>\n",
       "      <td>Show</td>\n",
       "      <td>237</td>\n",
       "      <td>0</td>\n",
       "      <td>0</td>\n",
       "      <td>0</td>\n",
       "      <td>0</td>\n",
       "      <td>0</td>\n",
       "      <td>0</td>\n",
       "      <td>0</td>\n",
       "      <td>0</td>\n",
       "      <td>0</td>\n",
       "      <td>0</td>\n",
       "      <td>0</td>\n",
       "      <td>0</td>\n",
       "    </tr>\n",
       "    <tr>\n",
       "      <th>2</th>\n",
       "      <td>8_Русская_Музыкальная_Премия_Телеканала_RU_TV.txt</td>\n",
       "      <td>Show</td>\n",
       "      <td>3302</td>\n",
       "      <td>0</td>\n",
       "      <td>0</td>\n",
       "      <td>445</td>\n",
       "      <td>0</td>\n",
       "      <td>0</td>\n",
       "      <td>0</td>\n",
       "      <td>0</td>\n",
       "      <td>0</td>\n",
       "      <td>0</td>\n",
       "      <td>0</td>\n",
       "      <td>0</td>\n",
       "      <td>0</td>\n",
       "    </tr>\n",
       "    <tr>\n",
       "      <th>3</th>\n",
       "      <td>ANIKV feat. SALUKI - Меня не будет. Вечерний У...</td>\n",
       "      <td>Show</td>\n",
       "      <td>191</td>\n",
       "      <td>0</td>\n",
       "      <td>0</td>\n",
       "      <td>0</td>\n",
       "      <td>0</td>\n",
       "      <td>0</td>\n",
       "      <td>0</td>\n",
       "      <td>0</td>\n",
       "      <td>0</td>\n",
       "      <td>0</td>\n",
       "      <td>0</td>\n",
       "      <td>0</td>\n",
       "      <td>0</td>\n",
       "    </tr>\n",
       "    <tr>\n",
       "      <th>4</th>\n",
       "      <td>Apocalyptica – «Enter Sandman» (06.04.2018).txt</td>\n",
       "      <td>Show</td>\n",
       "      <td>0</td>\n",
       "      <td>0</td>\n",
       "      <td>0</td>\n",
       "      <td>0</td>\n",
       "      <td>202</td>\n",
       "      <td>0</td>\n",
       "      <td>0</td>\n",
       "      <td>0</td>\n",
       "      <td>0</td>\n",
       "      <td>0</td>\n",
       "      <td>0</td>\n",
       "      <td>0</td>\n",
       "      <td>0</td>\n",
       "    </tr>\n",
       "  </tbody>\n",
       "</table>\n",
       "</div>"
      ],
      "text/plain": [
       "                                                name type_of_source   pop  \\\n",
       "0  2517 - Подорожник. Вечерний Ургант. 12.03.2020...           Show     0   \n",
       "1                          2Маши - Мама я танцую.txt           Show   237   \n",
       "2  8_Русская_Музыкальная_Премия_Телеканала_RU_TV.txt           Show  3302   \n",
       "3  ANIKV feat. SALUKI - Меня не будет. Вечерний У...           Show   191   \n",
       "4    Apocalyptica – «Enter Sandman» (06.04.2018).txt           Show     0   \n",
       "\n",
       "   rock  indi  hiphop  metal  electronic  folk  blues  classical  jazz  \\\n",
       "0     0     0     203      0           0     0      0          0     0   \n",
       "1     0     0       0      0           0     0      0          0     0   \n",
       "2     0     0     445      0           0     0      0          0     0   \n",
       "3     0     0       0      0           0     0      0          0     0   \n",
       "4     0     0       0    202           0     0      0          0     0   \n",
       "\n",
       "   country  disco  reggae  \n",
       "0        0      0       0  \n",
       "1        0      0       0  \n",
       "2        0      0       0  \n",
       "3        0      0       0  \n",
       "4        0      0       0  "
      ]
     },
     "execution_count": 11,
     "metadata": {},
     "output_type": "execute_result"
    }
   ],
   "source": [
    "df = pd.read_csv(os.path.join('Data', 'infoPPP.csv'), encoding='cp1251')\n",
    "df.head()"
   ]
  },
  {
   "cell_type": "code",
   "execution_count": 22,
   "metadata": {},
   "outputs": [],
   "source": [
    "train, test = train_test_split(df, test_size=0.2)\n",
    "train, valid = train_test_split(df, test_size=0.2)"
   ]
  },
  {
   "cell_type": "code",
   "execution_count": 23,
   "metadata": {},
   "outputs": [],
   "source": [
    "genres = {'pop', 'rock', 'indi', 'hiphop', 'metal', 'electronic', 'folk', 'blues', 'classical', 'jazz', 'country', 'disco', 'reggae'}\n",
    "\n",
    "\n",
    "def source_dict(data_frame):\n",
    "    dur_src_dict = { \"Show\": 0,\n",
    "                     \"Contest\": 0,\n",
    "                     \"Concert\": 0}\n",
    "    for _, row in data_frame.iterrows():\n",
    "        duration = 0\n",
    "        for cur_genre in genres:\n",
    "            duration += row[cur_genre]\n",
    "        prev_dur = dur_src_dict[row['type_of_source']]\n",
    "        duration += prev_dur\n",
    "        dur_src_dict.update({row['type_of_source']: duration})\n",
    "\n",
    "    return dur_src_dict\n",
    "\n",
    "\n",
    "def genres_dict(data_frame):\n",
    "    genre_dict = {}\n",
    "\n",
    "    for _, row in data_frame.iterrows():\n",
    "        for cur_genre in genres:\n",
    "            dur = row[cur_genre]\n",
    "            if cur_genre in genre_dict:\n",
    "                genre_dict.update({cur_genre: dur + genre_dict[cur_genre]})\n",
    "            else:\n",
    "                genre_dict.update({cur_genre: dur})\n",
    "    return genre_dict\n",
    "\n",
    "\n",
    "def make_plots(name, data_frame):\n",
    "    genre_dict = genres_dict(data_frame)\n",
    "    dur_src_dict = source_dict(data_frame)\n",
    "    plt.barh(range(len(genre_dict)), genre_dict.values(), tick_label=list(genre_dict.keys()), align='center')\n",
    "    plt.savefig(name + 'genres.png')\n",
    "    plt.show()\n",
    "    plt.pie(list(dur_src_dict.values()), labels=list(dur_src_dict.keys()))\n",
    "    plt.savefig(name + 'Sources.png')\n",
    "    plt.show()"
   ]
  },
  {
   "cell_type": "code",
   "execution_count": 24,
   "metadata": {},
   "outputs": [
    {
     "data": {
      "image/png": "[encoded data removed]",
      "text/plain": [
       "<Figure size 432x288 with 1 Axes>"
      ]
     },
     "metadata": {
      "needs_background": "light"
     },
     "output_type": "display_data"
    },
    {
     "data": {
      "image/png": "[encoded data removed]",
      "text/plain": [
       "<Figure size 432x288 with 1 Axes>"
      ]
     },
     "metadata": {},
     "output_type": "display_data"
    },
    {
     "data": {
      "image/png": "[encoded data removed]",
      "text/plain": [
       "<Figure size 432x288 with 1 Axes>"
      ]
     },
     "metadata": {
      "needs_background": "light"
     },
     "output_type": "display_data"
    },
    {
     "data": {
      "image/png": "[encoded data removed]",
      "text/plain": [
       "<Figure size 432x288 with 1 Axes>"
      ]
     },
     "metadata": {},
     "output_type": "display_data"
    },
    {
     "data": {
      "image/png": "[encoded data removed]",
      "text/plain": [
       "<Figure size 432x288 with 1 Axes>"
      ]
     },
     "metadata": {
      "needs_background": "light"
     },
     "output_type": "display_data"
    },
    {
     "data": {
      "image/png": "[encoded data removed]",
      "text/plain": [
       "<Figure size 432x288 with 1 Axes>"
      ]
     },
     "metadata": {},
     "output_type": "display_data"
    }
   ],
   "source": [
    "make_plots(os.path.join('Plots', 'tr_'), train)\n",
    "make_plots(os.path.join('Plots', 'val_'), valid)\n",
    "make_plots(os.path.join('Plots', 'ts_'), test)"
   ]
  },
  {
   "cell_type": "code",
   "execution_count": 26,
   "metadata": {},
   "outputs": [],
   "source": [
    "train.to_csv(os.path.join('Data', 'train.csv'), encoding='cp1251')\n",
    "valid.to_csv(os.path.join('Data', 'valid.csv'), encoding='cp1251')\n",
    "test.to_csv(os.path.join('Data', 'test.csv'), encoding='cp1251')"
   ]
  }
 ],
 "metadata": {
  "kernelspec": {
   "display_name": "Python 3",
   "language": "python",
   "name": "python3"
  },
  "language_info": {
   "codemirror_mode": {
    "name": "ipython",
    "version": 3
   },
   "file_extension": ".py",
   "mimetype": "text/x-python",
   "name": "python",
   "nbconvert_exporter": "python",
   "pygments_lexer": "ipython3",
   "version": "3.7.6"
  }
 },
 "nbformat": 4,
 "nbformat_minor": 4
}
